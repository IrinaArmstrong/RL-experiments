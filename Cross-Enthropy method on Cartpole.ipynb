{
 "cells": [
  {
   "cell_type": "code",
   "execution_count": 15,
   "metadata": {},
   "outputs": [],
   "source": [
    "# Basic\n",
    "import gym\n",
    "import numpy as np\n",
    "import pandas as pd\n",
    "import os\n",
    "import sys\n",
    "import pickle\n",
    "from time import sleep\n",
    "from collections import namedtuple\n",
    "from typing import List, Dict, NoReturn, Tuple, Optional, Any\n",
    "\n",
    "# Visualization pretty\n",
    "from pprint import pprint\n",
    "from tqdm.notebook import tqdm_notebook\n",
    "from IPython.display import clear_output\n",
    "\n",
    "# NNs\n",
    "import torch\n",
    "import torch.nn as nn\n",
    "import torch.nn.functional as F\n",
    "from torch.autograd import Variable"
   ]
  },
  {
   "cell_type": "code",
   "execution_count": 2,
   "metadata": {},
   "outputs": [],
   "source": [
    "import matplotlib.pyplot as plt\n",
    "import seaborn as sns\n",
    "\n",
    "%matplotlib inline"
   ]
  },
  {
   "cell_type": "markdown",
   "metadata": {},
   "source": [
    "## Environment\n",
    "\n",
    "**Description:** <br>\n",
    "        A pole is attached by an un-actuated joint to a cart, which moves along\n",
    "        a frictionless track. The pendulum starts upright, and the goal is to\n",
    "        prevent it from falling over by increasing and reducing the cart's\n",
    "        velocity.\n",
    "        \n",
    "**Source:** <br>\n",
    "        This environment corresponds to the version of the cart-pole problem\n",
    "        described by Barto, Sutton, and Anderson\n",
    "        \n",
    "**Observation:** <br>\n",
    "        Type: Box(4) <br>\n",
    "Num    |  Observation             |        Min             |       Max\n",
    "* 0    |   Cart Position          |   -4.8                 |   4.8\n",
    "* 1    |   Cart Velocity          |  -Inf                  |  Inf\n",
    "* 2    |   Pole Angle             |   -0.418 rad (-24 deg) |   0.418 rad (24 deg)\n",
    "* 3    |   Pole Angular Velocity  |   -Inf                 |  Inf\n",
    "        \n",
    "**Actions:** <br>\n",
    "        Type: Discrete(2) <br>\n",
    "        Num   Action <br>\n",
    "* 0     Push cart to the left\n",
    "* 1     Push cart to the right\n",
    "\n",
    "> Note: The amount the velocity that is reduced or increased is not\n",
    "        fixed; it depends on the angle the pole is pointing. This is because\n",
    "        the center of gravity of the pole increases the amount of energy needed\n",
    "        to move the cart underneath it\n",
    "        \n",
    "**Reward:** <br>\n",
    "        Reward is 1 for every step taken, including the termination step\n",
    "        \n",
    "**Starting State:** <br>\n",
    "        All observations are assigned a uniform random value in [-0.05..0.05]\n",
    "        \n",
    "**Episode Termination:** <br>\n",
    "* Pole Angle is more than 12 degrees.\n",
    "* Cart Position is more than 2.4 (center of the cart reaches the edge of the display).\n",
    "* Episode length is greater than 200.\n",
    "* Solved Requirements:\n",
    "* Considered solved when the average return is greater than or equal to 195.0 over 100 consecutive trials."
   ]
  },
  {
   "cell_type": "code",
   "execution_count": 11,
   "metadata": {},
   "outputs": [
    {
     "name": "stdout",
     "output_type": "stream",
     "text": [
      "Action space: 2\n",
      "Observation space: shape (4,),\n",
      "[-4.8000002e+00 -3.4028235e+38 -4.1887903e-01 -3.4028235e+38] to [4.8000002e+00 3.4028235e+38 4.1887903e-01 3.4028235e+38]\n"
     ]
    }
   ],
   "source": [
    "# loading Cartpole environment from gym\n",
    "env = gym.make('CartPole-v1')\n",
    "env.seed(seed=11)\n",
    "print(f\"Action space: {env.action_space.n}\")  \n",
    "# Cart Position, Cart Velocity, Pole Angle, Pole Angular Velocity\n",
    "print(f\"Observation space: shape {env.observation_space.shape},\\n{env.observation_space.low} to {env.observation_space.high}\")"
   ]
  },
  {
   "cell_type": "code",
   "execution_count": 10,
   "metadata": {},
   "outputs": [],
   "source": [
    "try:\n",
    "#     env = gym.wrappers.Monitor(env, \"./gym-results\", force=True)\n",
    "    env.reset()\n",
    "    for _ in range(200):\n",
    "        env.render(mode='human')\n",
    "        clear_output(wait=True)\n",
    "        env.step(env.action_space.sample()) # take a random action\n",
    "finally:\n",
    "    env.close()"
   ]
  },
  {
   "cell_type": "markdown",
   "metadata": {},
   "source": [
    "## Agent"
   ]
  },
  {
   "cell_type": "code",
   "execution_count": 14,
   "metadata": {},
   "outputs": [],
   "source": [
    "Episode = namedtuple('Episode', field_names=['reward', 'steps'])\n",
    "EpisodeStep = namedtuple('EpisodeStep', field_names=['observation', 'action'])"
   ]
  },
  {
   "cell_type": "code",
   "execution_count": null,
   "metadata": {},
   "outputs": [],
   "source": [
    "class CEM_Agent(nn.Module):\n",
    "    \n",
    "    def __init__(self, env, h_size=16):\n",
    "        super(CEM_Agent, self).__init__()\n",
    "        self._env = env\n",
    "        # state, hidden layer, action sizes\n",
    "        self._state_size = env.observation_space.shape[0]\n",
    "        self._hidd_size = h_size\n",
    "        self._act_size = env.action_space.shape[0]\n",
    "        \n",
    "        # define net\n",
    "        self._net = nn.Sequential(\n",
    "                nn.Linear(self._state_size, self._hidd_size),\n",
    "                nn.ReLU(),\n",
    "                nn.Linear(self._hidd_size, self._act_size))\n",
    "        "
   ]
  },
  {
   "cell_type": "code",
   "execution_count": 17,
   "metadata": {},
   "outputs": [
    {
     "data": {
      "text/plain": [
       "Sequential(\n",
       "  (0): Linear(in_features=4, out_features=16, bias=True)\n",
       "  (1): ReLU()\n",
       "  (2): Linear(in_features=16, out_features=2, bias=True)\n",
       ")"
      ]
     },
     "execution_count": 17,
     "metadata": {},
     "output_type": "execute_result"
    }
   ],
   "source": [
    "net = nn.Sequential(\n",
    "                nn.Linear(env.observation_space.shape[0], 16),\n",
    "                nn.ReLU(),\n",
    "                nn.Linear(16, env.action_space.n))\n",
    "net"
   ]
  },
  {
   "cell_type": "code",
   "execution_count": 36,
   "metadata": {},
   "outputs": [
    {
     "name": "stdout",
     "output_type": "stream",
     "text": [
      "tensor([[-0.4678, -0.2683,  0.3372,  0.3456],\n",
      "        [-0.0756,  0.0177, -0.4375,  0.3075],\n",
      "        [ 0.3758, -0.2152,  0.4257, -0.1055],\n",
      "        [-0.2111,  0.4944,  0.4736,  0.1178],\n",
      "        [ 0.4323, -0.1353,  0.2952, -0.0540],\n",
      "        [ 0.0660, -0.3630, -0.4889, -0.2233],\n",
      "        [ 0.1217, -0.0835,  0.1415,  0.0761],\n",
      "        [ 0.1484,  0.3977, -0.1751,  0.3275],\n",
      "        [-0.0831,  0.3808, -0.2992, -0.0203],\n",
      "        [ 0.4031, -0.1227, -0.4576, -0.3107],\n",
      "        [-0.4232, -0.1561,  0.0227,  0.0544],\n",
      "        [-0.0597,  0.1380,  0.0657, -0.1194],\n",
      "        [-0.4617,  0.3804, -0.3038, -0.4704],\n",
      "        [ 0.2972,  0.2881,  0.2758, -0.0191],\n",
      "        [ 0.2768, -0.3381, -0.2655,  0.4913],\n",
      "        [ 0.0468,  0.2630, -0.2954, -0.0433]])\n",
      "tensor([ 0.2263, -0.3369,  0.1547,  0.0916,  0.4281,  0.0040, -0.1069,  0.3983,\n",
      "         0.1310,  0.1471, -0.0054, -0.1154, -0.0494,  0.1611,  0.4549,  0.1091])\n",
      "tensor([[ 0.0664,  0.2487,  0.2020, -0.2046,  0.1665,  0.2033,  0.1399, -0.0641,\n",
      "          0.0558,  0.2486, -0.0659, -0.1529, -0.0218,  0.1836, -0.1405, -0.2012],\n",
      "        [-0.0477,  0.1032,  0.1344,  0.1812,  0.0480, -0.2485,  0.1474,  0.2176,\n",
      "          0.2129,  0.1984, -0.1302, -0.0684,  0.0092,  0.1390, -0.1506,  0.1947]])\n",
      "tensor([-0.1595, -0.0999])\n"
     ]
    }
   ],
   "source": [
    "for i, c in net.named_children():\n",
    "#     print(c._parameters.)\n",
    "    if len(c._parameters.keys()) > 0:\n",
    "        print(c._parameters.get('weight').data)\n",
    "        print(c._parameters.get('bias').data)"
   ]
  },
  {
   "cell_type": "code",
   "execution_count": null,
   "metadata": {},
   "outputs": [],
   "source": []
  },
  {
   "cell_type": "code",
   "execution_count": null,
   "metadata": {},
   "outputs": [],
   "source": []
  },
  {
   "cell_type": "code",
   "execution_count": null,
   "metadata": {},
   "outputs": [],
   "source": []
  }
 ],
 "metadata": {
  "kernelspec": {
   "display_name": "Python 3",
   "language": "python",
   "name": "python3"
  },
  "language_info": {
   "codemirror_mode": {
    "name": "ipython",
    "version": 3
   },
   "file_extension": ".py",
   "mimetype": "text/x-python",
   "name": "python",
   "nbconvert_exporter": "python",
   "pygments_lexer": "ipython3",
   "version": "3.7.3"
  }
 },
 "nbformat": 4,
 "nbformat_minor": 4
}
